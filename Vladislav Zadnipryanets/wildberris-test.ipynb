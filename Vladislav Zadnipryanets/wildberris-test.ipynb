{
 "cells": [
  {
   "cell_type": "code",
   "execution_count": null,
   "metadata": {},
   "outputs": [],
   "source": [
    "!pip install nest_asyncio xmltodict openai==0.28.0 langchain==0.0.281 tiktoken faiss-cpu tiktoken==0.4.0 html2text"
   ]
  },
  {
   "cell_type": "code",
   "execution_count": 3,
   "metadata": {},
   "outputs": [],
   "source": [
    "# fixes a bug with asyncio and jupyter\n",
    "import nest_asyncio\n",
    "nest_asyncio.apply()\n",
    "import xmltodict\n",
    "from langchain.document_loaders.sitemap import SitemapLoader\n",
    "import requests\n",
    "from langchain.vectorstores import FAISS\n",
    "from langchain.embeddings import OpenAIEmbeddings\n",
    "from langchain.text_splitter import RecursiveCharacterTextSplitter\n",
    "import tiktoken\n",
    "import matplotlib.pyplot as plt\n",
    "import getpass\n",
    "import os\n",
    "import openai\n",
    "from langchain.vectorstores import FAISS\n",
    "import re\n",
    "#second task\n",
    "from langchain.document_loaders import AsyncHtmlLoader\n",
    "from langchain.document_transformers import Html2TextTransformer\n",
    "from langchain.chat_models import ChatOpenAI\n",
    "from langchain.chains import create_extraction_chain"
   ]
  },
  {
   "cell_type": "code",
   "execution_count": 4,
   "metadata": {},
   "outputs": [
    {
     "name": "stderr",
     "output_type": "stream",
     "text": [
      "Fetching pages:   0%|          | 0/8 [00:00<?, ?it/s]"
     ]
    },
    {
     "name": "stderr",
     "output_type": "stream",
     "text": [
      "Fetching pages: 100%|##########| 8/8 [00:01<00:00,  7.95it/s]\n"
     ]
    }
   ],
   "source": [
    "# Указываем конкретные странички для парсинга\n",
    "urls = [\"https://digital.wildberries.ru/info/payments\",\n",
    "        \"https://digital.wildberries.ru/info/agreement\",\n",
    "        \"https://digital.wildberries.ru/info/faq\",\n",
    "        \"https://digital.wildberries.ru/info/oferta\",\n",
    "        \"https://digital.wildberries.ru/info/personal_data\",\n",
    "        \"https://digital.wildberries.ru/info/privacy_policy\",\n",
    "        \"https://digital.wildberries.ru/guide\",\n",
    "        \"https://digital.wildberries.ru/info/contacts\"]\n",
    "loader = AsyncHtmlLoader(urls)\n",
    "docs = loader.load()"
   ]
  },
  {
   "cell_type": "code",
   "execution_count": 5,
   "metadata": {},
   "outputs": [
    {
     "data": {
      "text/plain": [
       "'####\\n\\nКаталог\\n\\nВойти\\n\\nУведомления\\n\\nПокупки\\n\\nКорзина\\n\\nЭлектронные книги\\n\\nАудиокниги\\n\\nКлючи и сертификаты\\n\\nФильмы и видео\\n\\nМузыка и аудио\\n\\nЦифровые товары\\n\\nЖурналы\\n\\nУслуги\\n\\nБизнес-консультант\\n\\nWB-stream\\n\\n###\\n\\nВсе предложения\\n\\nПопулярные\\n\\nАктуальные\\n\\nСкидки и акции\\n\\n  1. Главная\\n  2. Способы оплаты\\n\\n# Способы оплаты\\n\\n### Банковская карта\\n\\nОплата банковской картой, через Интернет, возможна через системы электронных\\nплатежей.\\n\\nНомер карты (PAN) должен иметь не менее 15 и не более 19 символов.\\n\\nМы при'"
      ]
     },
     "execution_count": 5,
     "metadata": {},
     "output_type": "execute_result"
    }
   ],
   "source": [
    "# трансформируем их в текст\n",
    "html2text = Html2TextTransformer()\n",
    "docs_transformed = html2text.transform_documents(docs)\n",
    "# выводим первые 500 символов результата\n",
    "docs_transformed[0].page_content[0:500]"
   ]
  },
  {
   "cell_type": "code",
   "execution_count": 6,
   "metadata": {},
   "outputs": [],
   "source": [
    "# Получение ключа API от пользователя и установка его как переменной окружения\n",
    "openai_key = getpass.getpass(\"OpenAI API Key:\")\n",
    "os.environ[\"OPENAI_API_KEY\"] = openai_key\n",
    "openai.api_key = openai_key"
   ]
  },
  {
   "cell_type": "code",
   "execution_count": 17,
   "metadata": {},
   "outputs": [],
   "source": [
    "# инициализируем модель\n",
    "llm = ChatOpenAI(temperature=0, model=\"gpt-3.5-turbo-16k\")"
   ]
  },
  {
   "cell_type": "code",
   "execution_count": 33,
   "metadata": {},
   "outputs": [],
   "source": [
    "#  применяем create_extraction_chain для извлечения названия статьи\n",
    "schema = {\n",
    "    \"properties\": {\n",
    "        \"article_title\": {\"type\": \"string\"}\n",
    "    },\n",
    "    \"required\": [\"article_title\"]\n",
    "}\n",
    "\n",
    "def extract(content: str, schema: dict):\n",
    "    return create_extraction_chain(schema=schema, llm=llm).run(content)"
   ]
  },
  {
   "cell_type": "code",
   "execution_count": 36,
   "metadata": {},
   "outputs": [
    {
     "name": "stderr",
     "output_type": "stream",
     "text": [
      "Retrying langchain.chat_models.openai.ChatOpenAI.completion_with_retry.<locals>._completion_with_retry in 4.0 seconds as it raised APIConnectionError: Error communicating with OpenAI: ('Connection aborted.', ConnectionResetError(10054, 'Удаленный хост принудительно разорвал существующее подключение', None, 10054, None)).\n"
     ]
    }
   ],
   "source": [
    "# Применяем функцию extract ко всем документам\n",
    "extracted_data_all = []\n",
    "\n",
    "for doc in docs_transformed:\n",
    "    content = doc.page_content\n",
    "\n",
    "    # Применяем функцию extract\n",
    "    extracted_content = extract(content=content, schema=schema)\n",
    "\n",
    "    # Добавляем извлеченные данные в список (если нужно)\n",
    "    extracted_data_all.append(extracted_content)"
   ]
  },
  {
   "cell_type": "code",
   "execution_count": 37,
   "metadata": {},
   "outputs": [
    {
     "data": {
      "text/plain": [
       "[[{'article_title': 'Способы оплаты'}],\n",
       " [{'article_title': 'Правила пользования торговой площадкой \"Wildberries\"'}],\n",
       " [{'article_title': 'Что такое цифровой товар?'},\n",
       "  {'article_title': 'Как я получу цифровой товар?'},\n",
       "  {'article_title': 'В каком формате доступен контент на сайте Digital.Wildberries.ru?'},\n",
       "  {'article_title': 'Какие есть способы оплаты?'},\n",
       "  {'article_title': 'Когда мне откроется доступ на приобретенный товар/услугу?'},\n",
       "  {'article_title': 'Что делать, если не открылся доступ на товар и не пришло письмо?'},\n",
       "  {'article_title': 'Где можно посмотреть все мои цифровые покупки сделанные на сайте Digital.Wildberries.ru?'},\n",
       "  {'article_title': 'Я приобрел(а) подписку на онлайн-кинотеатр на определенный период, будет ли автопродление?'},\n",
       "  {'article_title': 'Могу ли я изменить почту для получения письма от Digital.Wildberries.ru?'},\n",
       "  {'article_title': 'Могу ли я вернуть цифровой товар?'},\n",
       "  {'article_title': 'Как стать продавцом цифрового контента?'},\n",
       "  {'article_title': 'Кто может стать автором на площадке Wildberries Цифровой?'}]]"
      ]
     },
     "execution_count": 37,
     "metadata": {},
     "output_type": "execute_result"
    }
   ],
   "source": [
    "extracted_data_all"
   ]
  },
  {
   "cell_type": "code",
   "execution_count": 38,
   "metadata": {},
   "outputs": [
    {
     "data": {
      "image/png": "[encoded data removed]",
      "text/plain": [
       "<Figure size 640x480 with 1 Axes>"
      ]
     },
     "metadata": {},
     "output_type": "display_data"
    }
   ],
   "source": [
    "def num_tokens_from_string(string: str, encoding_name: str) -> int:\n",
    "      \"\"\"Возвращает количество токенов в строке\"\"\"\n",
    "      encoding = tiktoken.get_encoding(encoding_name)\n",
    "      num_tokens = len(encoding.encode(string))\n",
    "      return num_tokens\n",
    "# Подсчет токенов для каждого фрагмента и построение графика\n",
    "fragment_token_counts = [num_tokens_from_string(fragment.page_content, \"cl100k_base\") for fragment in docs_transformed]\n",
    "plt.hist(fragment_token_counts, bins=50, alpha=0.5, label='Fragments')\n",
    "plt.title('Распределение длин чанков в токенах')\n",
    "plt.xlabel('Token Count')\n",
    "plt.ylabel('Frequency')\n",
    "plt.show()"
   ]
  },
  {
   "cell_type": "code",
   "execution_count": 39,
   "metadata": {},
   "outputs": [],
   "source": [
    "def split_into_chunks(content: str, title: str, max_tokens: int = 1000, encoding_name: str = \"cl100k_base\") -> list:\n",
    "    chunks = []\n",
    "    start_index = 0\n",
    "\n",
    "    while start_index < len(content):\n",
    "        # Пытаемся взять максимум токенов\n",
    "        end_index = start_index + max_tokens\n",
    "        if end_index > len(content):\n",
    "            end_index = len(content)\n",
    "\n",
    "        # Находим последний символ \\n\\n или \\n, чтобы разделить по нему\n",
    "        split_index_nn = content.rfind(\"\\n\\n\", start_index, end_index)\n",
    "        split_index_n = content.rfind(\"\\n\", start_index, end_index)\n",
    "\n",
    "        # Выбираем максимальный индекс из двух возможных вариантов разделения\n",
    "        split_index = max(split_index_nn, split_index_n)\n",
    "\n",
    "        # Если не можем найти \\n\\n или \\n, используем end_index\n",
    "        if split_index == -1:\n",
    "            split_index = end_index\n",
    "\n",
    "        chunk = content[start_index:split_index]\n",
    "\n",
    "        # Проверяем, не превышает ли количество токенов 1000\n",
    "        while num_tokens_from_string(f\"# {title}\\n\\n{chunk}\", encoding_name) > max_tokens and split_index > start_index:\n",
    "            split_index_nn = content.rfind(\"\\n\\n\", start_index, split_index-1)\n",
    "            split_index_n = content.rfind(\"\\n\", start_index, split_index-1)\n",
    "\n",
    "            # Аналогично выбираем максимальный индекс для нового разделения\n",
    "            split_index = max(split_index_nn, split_index_n)\n",
    "            chunk = content[start_index:split_index]\n",
    "\n",
    "        # Добавляем чанк в список с добавлением заголовка и устанавливаем новый start_index\n",
    "        chunks.append(f\"# {title}\\n\\n{chunk}\".strip())\n",
    "        start_index = split_index + 1\n",
    "\n",
    "    return chunks\n",
    "\n",
    "# Применяем функцию для разбивки на чанки\n",
    "chunks_all = []\n",
    "\n",
    "for doc, extracted in zip(docs_transformed, extracted_data_all):\n",
    "    title = extracted[0].get(\"article_title\", \"\") if extracted else \"\"\n",
    "    chunks = split_into_chunks(doc.page_content, title)\n",
    "    chunks_all.extend(chunks)\n"
   ]
  },
  {
   "cell_type": "code",
   "execution_count": 40,
   "metadata": {},
   "outputs": [
    {
     "data": {
      "text/plain": [
       "39"
      ]
     },
     "execution_count": 40,
     "metadata": {},
     "output_type": "execute_result"
    }
   ],
   "source": [
    "# получилось чанков\n",
    "len(chunks_all)"
   ]
  },
  {
   "cell_type": "code",
   "execution_count": 41,
   "metadata": {},
   "outputs": [
    {
     "data": {
      "image/png": "[encoded data removed]",
      "text/plain": [
       "<Figure size 640x480 with 1 Axes>"
      ]
     },
     "metadata": {},
     "output_type": "display_data"
    }
   ],
   "source": [
    "# посмотрим на распределение длин чанков после разделения на более мелкие чанки\n",
    "def num_tokens_from_strings(strings: list[str], encoding_name: str) -> list[int]:\n",
    "    \"\"\"Возвращает количество токенов в списке строк\"\"\"\n",
    "    encoding = tiktoken.get_encoding(encoding_name)\n",
    "\n",
    "    # Подсчет токенов для каждой строки и создание списка с количеством токенов\n",
    "    num_tokens_per_string = [len(encoding.encode(string)) for string in strings]\n",
    "    return num_tokens_per_string\n",
    "\n",
    "# Если chunks_all - это просто список строк, используем его напрямую\n",
    "fragment_token_counts = num_tokens_from_strings(chunks_all, \"cl100k_base\")\n",
    "\n",
    "# Визуализируем результат\n",
    "plt.hist(fragment_token_counts, bins=50, alpha=0.5, label='Fragments')\n",
    "plt.title('Распределение длин чанков в токенах')\n",
    "plt.xlabel('Token Count')\n",
    "plt.ylabel('Frequency')\n",
    "plt.legend(loc='upper right')\n",
    "plt.show()"
   ]
  },
  {
   "cell_type": "code",
   "execution_count": 42,
   "metadata": {},
   "outputs": [],
   "source": [
    "# Инициализирум модель эмбеддингов\n",
    "embeddings = OpenAIEmbeddings()\n",
    "\n",
    "# Создадим индексную базу из разделенных фрагментов текста\n",
    "db_2 = FAISS.from_texts(chunks_all, embeddings)"
   ]
  },
  {
   "cell_type": "code",
   "execution_count": 45,
   "metadata": {},
   "outputs": [],
   "source": [
    "system= \"Ответь на вопрос пользователя коротко, опираясь точно на документ с информацией для ответа клиенту. Не придумывай ничего от себя. Не ссылайся на сами отрывки документ с информацией для ответа, клиент о них ничего не должен знать.\""
   ]
  },
  {
   "cell_type": "code",
   "execution_count": 46,
   "metadata": {},
   "outputs": [],
   "source": [
    "def answer_index(system, topic, search_index, temp=0, verbose=0) -> str:\n",
    "    \"\"\"\n",
    "    Функция возвращает ответ модели на основе заданной темы.\n",
    "    \"\"\"\n",
    "    # находим наиболее релевантные вопросу пользователя чанки:\n",
    "    docs = search_index.similarity_search(topic, k=6)\n",
    "    message_content = re.sub(r'\\n{2}', ' ', '\\n '.join([f'\\nОтрывок документа №{i+1}\\n=====================' + doc.page_content + '\\n' for i, doc in enumerate(docs)]))\n",
    "\n",
    "    # если параметр verbose=1, то выводим релевантные чанки\n",
    "    if verbose:\n",
    "        print('message_content :\\n', message_content)\n",
    "\n",
    "    messages = [\n",
    "        {\"role\": \"system\", \"content\": system},\n",
    "        {\"role\": \"user\", \"content\": f\"Ответь на вопрос пользователя, но не упоминай данные тебе документы с информацией в ответе. Документ с информацией для ответа пользователю: {message_content}\\n\\nВопрос пользователя: \\n{topic}\"}\n",
    "    ]\n",
    "\n",
    "    completion = openai.ChatCompletion.create(\n",
    "        model=\"gpt-3.5-turbo\",\n",
    "        messages=messages,\n",
    "        temperature=temp\n",
    "    )\n",
    "\n",
    "    return completion.choices[0].message.content"
   ]
  },
  {
   "cell_type": "code",
   "execution_count": 47,
   "metadata": {},
   "outputs": [
    {
     "data": {
      "text/plain": [
       "'На сайте Digital.Wildberries.ru доступны два способа оплаты: через СБП (Систему быстрых платежей) или банковской картой.'"
      ]
     },
     "execution_count": 47,
     "metadata": {},
     "output_type": "execute_result"
    }
   ],
   "source": [
    "topic = \"Какой способ оплаты?\"\n",
    "ans=answer_index(system, topic, db_2, temp=0, verbose=0)\n",
    "ans"
   ]
  },
  {
   "cell_type": "code",
   "execution_count": 48,
   "metadata": {},
   "outputs": [
    {
     "data": {
      "text/plain": [
       "'Автор - это лицо или организация, которые создают цифровой контент, такой как электронные книги, музыка, видео, игры и другие цифровые товары.'"
      ]
     },
     "execution_count": 48,
     "metadata": {},
     "output_type": "execute_result"
    }
   ],
   "source": [
    "topic = \"Кто такой автор?\"\n",
    "ans=answer_index(system, topic, db_2, temp=0, verbose=0)\n",
    "ans"
   ]
  },
  {
   "cell_type": "code",
   "execution_count": 49,
   "metadata": {},
   "outputs": [
    {
     "data": {
      "text/plain": [
       "'Вы можете отменить заказ на торговой площадке \"Wildberries\" в течение 10 минут с момента оформления, если выбрали безналичный способ оплаты и не произвели оплату.'"
      ]
     },
     "execution_count": 49,
     "metadata": {},
     "output_type": "execute_result"
    }
   ],
   "source": [
    "topic = \"Как можно отменить заказ?\"\n",
    "ans=answer_index(system, topic, db_2, temp=0, verbose=0)\n",
    "ans"
   ]
  }
 ],
 "metadata": {
  "kernelspec": {
   "display_name": "Python 3",
   "language": "python",
   "name": "python3"
  },
  "language_info": {
   "codemirror_mode": {
    "name": "ipython",
    "version": 3
   },
   "file_extension": ".py",
   "mimetype": "text/x-python",
   "name": "python",
   "nbconvert_exporter": "python",
   "pygments_lexer": "ipython3",
   "version": "3.9.13"
  }
 },
 "nbformat": 4,
 "nbformat_minor": 2
}
